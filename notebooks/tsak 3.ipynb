{
 "cells": [
  {
   "cell_type": "code",
   "execution_count": null,
   "id": "bdf194f1",
   "metadata": {},
   "outputs": [
    {
     "name": "stdout",
     "output_type": "stream",
     "text": [
      "Requirement already satisfied: scipy in c:\\users\\yohanan\\end-to-end-insurance-risk-analytics-week3\\.venv\\lib\\site-packages (1.15.3)\n",
      "Requirement already satisfied: numpy<2.5,>=1.23.5 in c:\\users\\yohanan\\end-to-end-insurance-risk-analytics-week3\\.venv\\lib\\site-packages (from scipy) (2.3.0)\n",
      "Note: you may need to restart the kernel to use updated packages.\n"
     ]
    },
    {
     "name": "stderr",
     "output_type": "stream",
     "text": [
      "C:\\Users\\Yohanan\\AppData\\Local\\Temp\\ipykernel_17132\\2970273029.py:7: DtypeWarning: Columns (32) have mixed types. Specify dtype option on import or set low_memory=False.\n",
      "  df = pd.read_csv('MachineLearningRating_v3_cleaned.csv', sep='|', on_bad_lines='skip')\n"
     ]
    },
    {
     "name": "stdout",
     "output_type": "stream",
     "text": [
      " Fail to reject H₀ for Claim Frequency by Province (p = 1.0000) → No significant difference.\n",
      "Not enough groups with data for Province (severity).\n",
      " Fail to reject H₀ for Claim Severity by Province (p = nan) → No significant difference.\n",
      " Fail to reject H₀ for Claim Frequency by Province (p = 1.0000) → No significant difference.\n",
      "Not enough groups with data for Province (severity).\n",
      " Fail to reject H₀ for Claim Severity by Province (p = nan) → No significant difference.\n",
      " Fail to reject H₀ for Claim Frequency by Zip Code (p = 1.0000) → No significant difference.\n",
      "Not enough groups with data for PostalCode (severity).\n",
      " Fail to reject H₀ for Claim Severity by Zip Code (p = nan) → No significant difference.\n",
      "Reject H₀ for Margin by Zip Code (p = 0.0000) → Statistically significant difference.\n",
      " Fail to reject H₀ for Claim Frequency by Gender (p = 1.0000) → No significant difference.\n",
      "Not enough groups with data for Gender (severity).\n",
      " Fail to reject H₀ for Claim Severity by Gender (p = nan) → No significant difference.\n",
      " Fail to reject H₀ for Claim Frequency by Province (p = 1.0000) → No significant difference.\n",
      "Not enough groups with data for Province (severity).\n",
      " Fail to reject H₀ for Claim Severity by Province (p = nan) → No significant difference.\n",
      " Fail to reject H₀ for Claim Frequency by Zip Code (p = 1.0000) → No significant difference.\n",
      "Not enough groups with data for PostalCode (severity).\n",
      " Fail to reject H₀ for Claim Severity by Zip Code (p = nan) → No significant difference.\n",
      "Reject H₀ for Margin by Zip Code (p = 0.0000) → Statistically significant difference.\n",
      " Fail to reject H₀ for Claim Frequency by Gender (p = 1.0000) → No significant difference.\n",
      "Not enough groups with data for Gender (severity).\n",
      " Fail to reject H₀ for Claim Severity by Gender (p = nan) → No significant difference.\n"
     ]
    },
    {
     "ename": "TypeError",
     "evalue": "result() missing 2 required positional arguments: 'name' and 'p'",
     "output_type": "error",
     "traceback": [
      "\u001b[31m---------------------------------------------------------------------------\u001b[39m",
      "\u001b[31mTypeError\u001b[39m                                 Traceback (most recent call last)",
      "\u001b[36mCell\u001b[39m\u001b[36m \u001b[39m\u001b[32mIn[15]\u001b[39m\u001b[32m, line 72\u001b[39m\n\u001b[32m     70\u001b[39m \u001b[38;5;66;03m# Call it like this:\u001b[39;00m\n\u001b[32m     71\u001b[39m run_all_tests()\n\u001b[32m---> \u001b[39m\u001b[32m72\u001b[39m \u001b[43mresult\u001b[49m\u001b[43m(\u001b[49m\u001b[43m)\u001b[49m\n",
      "\u001b[31mTypeError\u001b[39m: result() missing 2 required positional arguments: 'name' and 'p'"
     ]
    }
   ],
   "source": [
    "import pandas as pd\n",
    "import numpy as np\n",
    "%pip install scipy\n",
    "from scipy import stats\n",
    "\n",
    "# --- Compute KPIs ---\n",
    "df = pd.read_csv('MachineLearningRating_v3_cleaned.csv', sep='|', on_bad_lines='skip')\n",
    "df['HasClaim'] = (df['TotalClaims'] > 0).astype(int)\n",
    "df['ClaimSeverity'] = df['TotalClaims'] / df['HasClaim'].replace(0, np.nan)\n",
    "df['Margin'] = df['TotalPremium'] - df['TotalClaims']\n",
    "\n",
    "# --- Set alpha level for significance ---\n",
    "alpha = 0.05\n",
    "\n",
    "def test_frequency(group_col):\n",
    "    contingency = pd.crosstab(df[group_col], df['HasClaim'])\n",
    "    chi2, p, _, _ = stats.chi2_contingency(contingency)\n",
    "    return p\n",
    "\n",
    "def test_severity(group_col):\n",
    "    groups = [group['ClaimSeverity'].dropna() for _, group in df[df['HasClaim'] == 1].groupby(group_col)]\n",
    "    groups = [g for g in groups if len(g) > 0]  # Only keep non-empty groups\n",
    "    if len(groups) < 2:\n",
    "        print(f\"Not enough groups with data for {group_col} (severity).\")\n",
    "        return np.nan\n",
    "    f_stat, p = stats.f_oneway(*groups)\n",
    "    return p\n",
    "\n",
    "def test_margin(group_col):\n",
    "    groups = [group['Margin'].dropna() for _, group in df.groupby(group_col)]\n",
    "    groups = [g for g in groups if len(g) > 0]  # Only keep non-empty groups\n",
    "    if len(groups) < 2:\n",
    "        print(f\"Not enough groups with data for {group_col} (margin).\")\n",
    "        return np.nan\n",
    "    f_stat, p = stats.f_oneway(*groups)\n",
    "    return p\n",
    "\n",
    "def result(name, p):\n",
    "    if p < alpha:\n",
    "        print(f\"Reject H₀ for {name} (p = {p:.4f}) → Statistically significant difference.\")\n",
    "    else:\n",
    "        print(f\" Fail to reject H₀ for {name} (p = {p:.4f}) → No significant difference.\")\n",
    "\n",
    "# --- Hypothesis Testing ---\n",
    "\n",
    "# H₀: No risk difference across Provinces\n",
    "result(\"Claim Frequency by Province\", test_frequency('Province'))\n",
    "result(\"Claim Severity by Province\", test_severity('Province'))\n",
    "result(\"Claim Frequency by Province\", test_frequency('Province'))\n",
    "result(\"Claim Severity by Province\", test_severity('Province'))\n",
    "# H₀: No risk difference between Zip Codes (PostalCode)\n",
    "result(\"Claim Frequency by Zip Code\", test_frequency('PostalCode'))\n",
    "result(\"Claim Severity by Zip Code\", test_severity('PostalCode'))\n",
    "\n",
    "# H₀: No Margin difference between Zip Codes\n",
    "result(\"Margin by Zip Code\", test_margin('PostalCode'))\n",
    "\n",
    "# H₀: No risk difference between Women and Men\n",
    "result(\"Claim Frequency by Gender\", test_frequency('Gender'))\n",
    "result(\"Claim Severity by Gender\", test_severity('Gender'))\n",
    "def run_all_tests():\n",
    "    result(\"Claim Frequency by Province\", test_frequency('Province'))\n",
    "    result(\"Claim Severity by Province\", test_severity('Province'))\n",
    "    result(\"Claim Frequency by Zip Code\", test_frequency('PostalCode'))\n",
    "    result(\"Claim Severity by Zip Code\", test_severity('PostalCode'))\n",
    "    result(\"Margin by Zip Code\", test_margin('PostalCode'))\n",
    "    result(\"Claim Frequency by Gender\", test_frequency('Gender'))\n",
    "    result(\"Claim Severity by Gender\", test_severity('Gender'))\n",
    "\n",
    "# Call it like this:\n",
    "run_all_tests()\n"
   ]
  },
  {
   "cell_type": "code",
   "execution_count": null,
   "id": "09004ed7",
   "metadata": {},
   "outputs": [],
   "source": []
  }
 ],
 "metadata": {
  "kernelspec": {
   "display_name": ".venv",
   "language": "python",
   "name": "python3"
  },
  "language_info": {
   "codemirror_mode": {
    "name": "ipython",
    "version": 3
   },
   "file_extension": ".py",
   "mimetype": "text/x-python",
   "name": "python",
   "nbconvert_exporter": "python",
   "pygments_lexer": "ipython3",
   "version": "3.13.3"
  }
 },
 "nbformat": 4,
 "nbformat_minor": 5
}
