{
 "cells": [
  {
   "cell_type": "code",
   "execution_count": null,
   "id": "d0c9dfa6",
   "metadata": {},
   "outputs": [],
   "source": [
    "%pip install scikit-learn xgboost lime matplotlib seaborn --quiet\n",
    "\n",
    "import pandas as pd\n",
    "import numpy as np\n",
    "from sklearn.model_selection import train_test_split\n",
    "from sklearn.preprocessing import LabelEncoder, OneHotEncoder, StandardScaler\n",
    "from sklearn.impute import SimpleImputer\n",
    "from sklearn.linear_model import LogisticRegression\n",
    "from sklearn.ensemble import RandomForestClassifier\n",
    "from xgboost import XGBClassifier\n",
    "from sklearn.metrics import classification_report, confusion_matrix\n",
    "from sklearn.tree import DecisionTreeClassifier\n",
    "from sklearn.pipeline import Pipeline\n",
    "from lime.lime_tabular import LimeTabularExplainer\n",
    "import matplotlib.pyplot as plt\n",
    "import seaborn as sns\n",
    "\n",
    "# Load data\n",
    "df = pd.read_csv(\"MachineLearningRating_v3_cleaned.csv\")\n",
    "\n",
    "# Handling Missing Values\n",
    "df = df.dropna(thresh=len(df.columns) * 0.7)  # Drop rows with more than 30% missing\n",
    "imputer = SimpleImputer(strategy='mean')\n",
    "df[['TotalPremium', 'TotalClaims']] = imputer.fit_transform(df[['TotalPremium', 'TotalClaims']])\n",
    "\n",
    "# Feature Engineering\n",
    "df['ClaimRatio'] = df['TotalClaims'] / (df['TotalPremium'] + 1)  # Prevent division by zero\n",
    "df['HighClaim'] = df['ClaimRatio'] > 0.8\n",
    "\n",
    "# Encoding Categorical Features\n",
    "cat_cols = df.select_dtypes(include='object').columns\n",
    "df = pd.get_dummies(df, columns=cat_cols, drop_first=True)\n",
    "\n",
    "# Define target and features\n",
    "target = 'Retention'  # Replace with your actual target column\n",
    "X = df.drop(columns=[target])\n",
    "y = df[target]\n",
    "\n",
    "# Scaling\n",
    "scaler = StandardScaler()\n",
    "X_scaled = scaler.fit_transform(X)\n",
    "\n",
    "# Train-Test Split\n",
    "X_train, X_test, y_train, y_test = train_test_split(X_scaled, y, test_size=0.3, stratify=y, random_state=42)\n"
   ]
  }
 ],
 "metadata": {
  "kernelspec": {
   "display_name": ".venv",
   "language": "python",
   "name": "python3"
  },
  "language_info": {
   "codemirror_mode": {
    "name": "ipython",
    "version": 3
   },
   "file_extension": ".py",
   "mimetype": "text/x-python",
   "name": "python",
   "nbconvert_exporter": "python",
   "pygments_lexer": "ipython3",
   "version": "3.13.3"
  }
 },
 "nbformat": 4,
 "nbformat_minor": 5
}
